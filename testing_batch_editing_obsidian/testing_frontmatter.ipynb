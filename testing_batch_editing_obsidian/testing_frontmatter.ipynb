{
 "cells": [
  {
   "cell_type": "code",
   "execution_count": 23,
   "metadata": {},
   "outputs": [
    {
     "name": "stdout",
     "output_type": "stream",
     "text": [
      "1843\n"
     ]
    }
   ],
   "source": [
    "import polars as pl\n",
    "import frontmatter\n",
    "from pathlib import Path\n",
    "\n",
    "vault_path = Path(\"/Users/jonathan/001_obsidian_vault\")\n",
    "\n",
    "paths = (\n",
    "    list(vault_path.glob(\"zettel/*.md\"))\n",
    "    + list(vault_path.glob(\"to_be_processed/*.md\"))\n",
    "    + list(vault_path.glob(\"z_literature_notes/*.md\"))\n",
    ")\n",
    "\n",
    "print(len(paths))\n"
   ]
  },
  {
   "cell_type": "code",
   "execution_count": 24,
   "metadata": {},
   "outputs": [
    {
     "name": "stdout",
     "output_type": "stream",
     "text": [
      "1843\n",
      "0\n"
     ]
    }
   ],
   "source": [
    "# parse the posts\n",
    "from yaml import parser, scanner\n",
    "\n",
    "parsed_notes = []\n",
    "errors = []\n",
    "for path in paths:\n",
    "    # possible errors\n",
    "    # 1. file doesnt exist\n",
    "    # 2. not a markdown file\n",
    "    if not path.exists():\n",
    "        raise ValueError(f\"{path} doesnt exist\")\n",
    "    if not path.suffix == \".md\":\n",
    "        raise ValueError(f\"expecting markdown file, got {path}\")\n",
    "    try:\n",
    "        parsed_notes.append(frontmatter.load(str(path)))\n",
    "    except (parser.ParserError, scanner.ScannerError) as e:\n",
    "        errors.append({\"path\": path, \"error\": e})\n",
    "    else:\n",
    "        continue\n",
    "\n",
    "print(len(parsed_notes))\n",
    "print(len(errors))\n",
    "\n",
    "if errors:\n",
    "    error_strs = []\n",
    "    for idx, d in enumerate(errors):\n",
    "        error_strs.append(str(idx, d[\"path\"], \":\\n\", str(d[\"error\"])))\n",
    "\n",
    "    error_str = \"\\n\".join(error_strs)\n",
    "\n",
    "    raise RuntimeError(error_str)\n"
   ]
  }
 ],
 "metadata": {
  "kernelspec": {
   "display_name": "testing-batch-editing-obsidian-8Wu4M26a-py3.12",
   "language": "python",
   "name": "python3"
  },
  "language_info": {
   "codemirror_mode": {
    "name": "ipython",
    "version": 3
   },
   "file_extension": ".py",
   "mimetype": "text/x-python",
   "name": "python",
   "nbconvert_exporter": "python",
   "pygments_lexer": "ipython3",
   "version": "3.12.2"
  }
 },
 "nbformat": 4,
 "nbformat_minor": 2
}
