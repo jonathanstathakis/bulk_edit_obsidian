{
 "cells": [
  {
   "cell_type": "code",
   "execution_count": 37,
   "metadata": {},
   "outputs": [
    {
     "name": "stdout",
     "output_type": "stream",
     "text": [
      "The autoreload extension is already loaded. To reload it, use:\n",
      "  %reload_ext autoreload\n"
     ]
    }
   ],
   "source": [
    "%load_ext autoreload\n",
    "%autoreload 2\n",
    "import polars as pl\n",
    "\n",
    "from pathlib import Path\n",
    "from dateutil.parser import parse as dateutil_parse, ParserError as dateutil_ParserError\n",
    "\n",
    "vault_path = Path(\"/Users/jonathan/001_obsidian_vault\")\n",
    "\n",
    "paths = (\n",
    "    list(vault_path.glob(\"zettel/*.md\"))\n",
    "    + list(vault_path.glob(\"to_be_processed/*.md\"))\n",
    "    + list(vault_path.glob(\"z_literature_notes/*.md\"))\n",
    ")\n",
    "import markdown_parser\n",
    "\n",
    "posts = markdown_parser.parse(paths=paths)\n",
    "import format_cdt\n"
   ]
  },
  {
   "cell_type": "code",
   "execution_count": 38,
   "metadata": {},
   "outputs": [],
   "source": [
    "sorted_cdts = format_cdt.format_cdts(posts=posts)\n"
   ]
  },
  {
   "cell_type": "code",
   "execution_count": null,
   "metadata": {},
   "outputs": [],
   "source": []
  }
 ],
 "metadata": {
  "kernelspec": {
   "display_name": "testing-batch-editing-obsidian-8Wu4M26a-py3.12",
   "language": "python",
   "name": "python3"
  },
  "language_info": {
   "codemirror_mode": {
    "name": "ipython",
    "version": 3
   },
   "file_extension": ".py",
   "mimetype": "text/x-python",
   "name": "python",
   "nbconvert_exporter": "python",
   "pygments_lexer": "ipython3",
   "version": "3.12.2"
  }
 },
 "nbformat": 4,
 "nbformat_minor": 2
}
